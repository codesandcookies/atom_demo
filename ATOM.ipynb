{
 "cells": [
  {
   "cell_type": "markdown",
   "metadata": {},
   "source": [
    "# ATOM\n"
   ]
  },
  {
   "cell_type": "markdown",
   "metadata": {},
   "source": [
    "## Search commands\n",
    "Open Toggle Command Palette"
   ]
  },
  {
   "cell_type": "markdown",
   "metadata": {},
   "source": [
    "- **Shift + command + P**\n",
    "\n",
    "![Toggle Command Palette](./Command.png)\n",
    "\n"
   ]
  },
  {
   "cell_type": "markdown",
   "metadata": {},
   "source": [
    "## Show keybindings\n",
    "![Keybindings](./Keybind.png)\n"
   ]
  },
  {
   "cell_type": "markdown",
   "metadata": {},
   "source": [
    "## Install packages\n",
    "\n",
    "In Atom\n",
    "\n",
    "![install](./packages-install.png)\n",
    "\n",
    "\n",
    "You can install packages using apm in the terminal\n",
    "- **apm install package_name** to install the latest version.\n",
    "- **apm install package_name@package_version** to install a specific version.\n",
    "\n",
    "To enable **install apm** go to:\n",
    "\n",
    "<img src=\"./apm.png\" width=\"400\">\n",
    "\n"
   ]
  },
  {
   "cell_type": "markdown",
   "metadata": {},
   "source": [
    "## Packages\n",
    "\n",
    "### Hydrogen\n",
    "Hydrogen is an interactive coding environment that supports Python, R, JavaScript and other Jupyter kernels.\n",
    "![hydrogen](./hydrogen.gif)\n",
    "#### Features\n",
    "\n",
    "- execute a line, selection, or block at a time\n",
    "- rich media support for plots, images, and video\n",
    "- watch expressions let you keep track of variables and re-run snippets after every change\n",
    "- completions from the running kernel, just like autocomplete in the Chrome dev tools\n",
    "- code can be inspected to show useful information provided by the running kernel\n",
    "- one kernel per language (so you can run snippets from several files, all in the same namespace)\n",
    "- interrupt or restart the kernel if anything goes wrong\n",
    "- use a custom kernel connection (for example to run code inside Docker), read more in the \"Custom kernel connection (inside Docker)\" section\n",
    "\n",
    "### Atom-Beautify\n",
    "![beutify](./beautify.gif)\n",
    "### Docblock-python\n",
    "DocBlock is a package for Atom which helps you to document your python code.\n",
    "![docblock](./docblock.gif)\n",
    "### Color-picker\n",
    "\n",
    "Right click and select Color Picker, or hit CMD-SHIFT-C/CTRL-ALT-C to open it. Currently reads HEX, HEXa, RGB, RGBa, HSL, HSLa, HSV, HSVa, VEC3 and VEC4 colors – and is able to convert between the formats.\n",
    "\n",
    "It also inspects Sass and LESS color variables. Just open the Color Picker with the cursor at a variable and it'll look up the definition for you. From there, you can click the definition and go directly to where it's defined.\n",
    "\n",
    "![color picker](./color.gif)\n",
    "\n",
    "### file-icons\n",
    "File-specific icons in Atom for improved visual grepping.\n",
    "![icons](./icons.png)"
   ]
  },
  {
   "cell_type": "code",
   "execution_count": null,
   "metadata": {},
   "outputs": [],
   "source": []
  }
 ],
 "metadata": {
  "kernelspec": {
   "display_name": "Python 3",
   "language": "python",
   "name": "python3"
  },
  "language_info": {
   "codemirror_mode": {
    "name": "ipython",
    "version": 3
   },
   "file_extension": ".py",
   "mimetype": "text/x-python",
   "name": "python",
   "nbconvert_exporter": "python",
   "pygments_lexer": "ipython3",
   "version": "3.6.7"
  }
 },
 "nbformat": 4,
 "nbformat_minor": 2
}
